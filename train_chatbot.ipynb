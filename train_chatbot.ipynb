{
 "cells": [
  {
   "cell_type": "markdown",
   "metadata": {},
   "source": [
    "# Project Friend- A chatbot App"
   ]
  },
  {
   "cell_type": "markdown",
   "metadata": {},
   "source": [
    "**Import necessary library**"
   ]
  },
  {
   "cell_type": "code",
   "execution_count": 41,
   "metadata": {},
   "outputs": [],
   "source": [
    "import nltk\n",
    "from nltk.stem import WordNetLemmatizer\n",
    "lemmatizer = WordNetLemmatizer()\n",
    "import json\n",
    "import pickle"
   ]
  },
  {
   "cell_type": "code",
   "execution_count": 44,
   "metadata": {},
   "outputs": [],
   "source": [
    "import numpy as np\n",
    "import pandas as pd"
   ]
  },
  {
   "cell_type": "code",
   "execution_count": 45,
   "metadata": {},
   "outputs": [],
   "source": [
    "from tensorflow.keras.models import Sequential\n",
    "from tensorflow.keras.layers import Dense, Activation, Dropout\n",
    "from tensorflow.keras.optimizers import SGD\n",
    "import random"
   ]
  },
  {
   "cell_type": "markdown",
   "metadata": {},
   "source": [
    "**Set necessary variable and DATA set**"
   ]
  },
  {
   "cell_type": "code",
   "execution_count": 9,
   "metadata": {},
   "outputs": [],
   "source": [
    "words=[]\n",
    "classes = []\n",
    "documents = []\n",
    "ignore_words = ['?', '!']\n",
    "\n",
    "data_file = open('intents.json').read()\n",
    "intents = json.loads(data_file)"
   ]
  },
  {
   "cell_type": "code",
   "execution_count": 11,
   "metadata": {},
   "outputs": [
    {
     "data": {
      "text/plain": [
       "dict"
      ]
     },
     "execution_count": 11,
     "metadata": {},
     "output_type": "execute_result"
    }
   ],
   "source": [
    "type(intents)"
   ]
  },
  {
   "cell_type": "code",
   "execution_count": 25,
   "metadata": {},
   "outputs": [
    {
     "data": {
      "text/plain": [
       "list"
      ]
     },
     "execution_count": 25,
     "metadata": {},
     "output_type": "execute_result"
    }
   ],
   "source": [
    "type(intents['intents'])"
   ]
  },
  {
   "cell_type": "markdown",
   "metadata": {},
   "source": [
    "# Preprocess data"
   ]
  },
  {
   "cell_type": "markdown",
   "metadata": {},
   "source": [
    "**we need to perform various preprocessing on the data before we make a machine learning or a deep learning model. Tokenizing is the most basic and first thing you can do on text data. Tokenizing is the process of breaking the whole text into small parts like words.**"
   ]
  },
  {
   "cell_type": "code",
   "execution_count": 27,
   "metadata": {},
   "outputs": [
    {
     "name": "stderr",
     "output_type": "stream",
     "text": [
      "[nltk_data] Downloading package punkt to\n",
      "[nltk_data]     C:\\Users\\SAM\\AppData\\Roaming\\nltk_data...\n",
      "[nltk_data]   Unzipping tokenizers\\punkt.zip.\n"
     ]
    },
    {
     "data": {
      "text/plain": [
       "True"
      ]
     },
     "execution_count": 27,
     "metadata": {},
     "output_type": "execute_result"
    }
   ],
   "source": [
    "nltk.download('punkt')"
   ]
  },
  {
   "cell_type": "code",
   "execution_count": 28,
   "metadata": {},
   "outputs": [],
   "source": [
    "for intent in intents['intents']:\n",
    "    for pattern in intent['patterns']:\n",
    "        #tokenize each word\n",
    "        w = nltk.word_tokenize(pattern)\n",
    "        words.extend(w)\n",
    "        #add documents in the corpus\n",
    "        documents.append((w, intent['tag']))\n",
    "        # add to our classes list\n",
    "        if intent['tag'] not in classes:\n",
    "            classes.append(intent['tag'])"
   ]
  },
  {
   "cell_type": "markdown",
   "metadata": {},
   "source": [
    "**Now we will lemmatize each word and remove duplicate words from the list.**"
   ]
  },
  {
   "cell_type": "code",
   "execution_count": 30,
   "metadata": {},
   "outputs": [
    {
     "name": "stderr",
     "output_type": "stream",
     "text": [
      "[nltk_data] Downloading package wordnet to\n",
      "[nltk_data]     C:\\Users\\SAM\\AppData\\Roaming\\nltk_data...\n",
      "[nltk_data]   Unzipping corpora\\wordnet.zip.\n"
     ]
    },
    {
     "data": {
      "text/plain": [
       "True"
      ]
     },
     "execution_count": 30,
     "metadata": {},
     "output_type": "execute_result"
    }
   ],
   "source": [
    "nltk.download('wordnet')"
   ]
  },
  {
   "cell_type": "code",
   "execution_count": 51,
   "metadata": {},
   "outputs": [
    {
     "name": "stdout",
     "output_type": "stream",
     "text": [
      "47 documents\n",
      "9 classes ['adverse_drug', 'blood_pressure', 'blood_pressure_search', 'goodbye', 'greeting', 'hospital_search', 'options', 'pharmacy_search', 'thanks']\n",
      "88 unique lemmatized words [\"'s\", ',', 'a', 'adverse', 'all', 'anyone', 'are', 'awesome', 'be', 'behavior', 'blood', 'by', 'bye', 'can', 'causing', 'chatting', 'check', 'could', 'data', 'day', 'detail', 'do', 'dont', 'drug', 'entry', 'find', 'for', 'give', 'good', 'goodbye', 'have', 'hello', 'help', 'helpful', 'helping', 'hey', 'hi', 'history', 'hola', 'hospital', 'how', 'i', 'id', 'is', 'later', 'list', 'load', 'locate', 'log', 'looking', 'lookup', 'management', 'me', 'module', 'nearby', 'next', 'nice', 'of', 'offered', 'open', 'patient', 'pharmacy', 'pressure', 'provide', 'reaction', 'related', 'result', 'search', 'searching', 'see', 'show', 'suitable', 'support', 'task', 'thank', 'thanks', 'that', 'there', 'till', 'time', 'to', 'transfer', 'up', 'want', 'what', 'which', 'with', 'you']\n"
     ]
    }
   ],
   "source": [
    "# lemmatize, lower each word and remove duplicates\n",
    "words = [lemmatizer.lemmatize(w.lower()) for w in words if w not in ignore_words]\n",
    "words = sorted(list(set(words)))\n",
    "# sort classes\n",
    "classes = sorted(list(set(classes)))\n",
    "# documents = combination between patterns and intents\n",
    "print (len(documents), \"documents\")\n",
    "# classes = intents\n",
    "print (len(classes), \"classes\", classes)\n",
    "# words = all words, vocabulary\n",
    "print (len(words), \"unique lemmatized words\", words)\n",
    "pickle.dump(words,open('words.pkl','wb'))\n",
    "pickle.dump(classes,open('classes.pkl','wb'))"
   ]
  },
  {
   "cell_type": "markdown",
   "metadata": {},
   "source": [
    "# Create training and testing data"
   ]
  },
  {
   "cell_type": "code",
   "execution_count": 36,
   "metadata": {},
   "outputs": [
    {
     "name": "stdout",
     "output_type": "stream",
     "text": [
      "Training data created\n"
     ]
    }
   ],
   "source": [
    "# create our training data\n",
    "training = []\n",
    "# create an empty array for our output\n",
    "output_empty = [0] * len(classes)\n",
    "# training set, bag of words for each sentence\n",
    "for doc in documents:\n",
    "    # initialize our bag of words\n",
    "    bag = []\n",
    "    # list of tokenized words for the pattern\n",
    "    pattern_words = doc[0]\n",
    "    # lemmatize each word - create base word, in attempt to represent related words\n",
    "    pattern_words = [lemmatizer.lemmatize(word.lower()) for word in pattern_words]\n",
    "    # create our bag of words array with 1, if word match found in current pattern\n",
    "for w in words:\n",
    "    bag.append(1) if w in pattern_words else bag.append(0)\n",
    "    # output is a '0' for each tag and '1' for current tag (for each pattern)\n",
    "    output_row = list(output_empty)\n",
    "    output_row[classes.index(doc[1])] = 1\n",
    "    training.append([bag, output_row])\n",
    "# shuffle our features and turn into np.array\n",
    "random.shuffle(training)\n",
    "training = np.array(training)\n",
    "# create train and test lists. X - patterns, Y - intents\n",
    "train_x = list(training[:,0])\n",
    "train_y = list(training[:,1])\n",
    "print(\"Training data created\")"
   ]
  },
  {
   "cell_type": "markdown",
   "metadata": {},
   "source": [
    "# Build model"
   ]
  },
  {
   "cell_type": "code",
   "execution_count": 37,
   "metadata": {},
   "outputs": [],
   "source": [
    "model = Sequential()\n",
    "\n",
    "model.add(Dense(128, input_shape=(len(train_x[0]),), activation='relu'))\n",
    "model.add(Dropout(0.5))\n",
    "\n",
    "model.add(Dense(64, activation='relu'))\n",
    "model.add(Dropout(0.5))\n",
    "\n",
    "model.add(Dense(len(train_y[0]), activation='softmax'))\n",
    "\n",
    "sgd = SGD(lr=0.01, decay=1e-6, momentum=0.9, nesterov=True)\n",
    "model.compile(loss='categorical_crossentropy', optimizer=sgd, metrics=['accuracy'])"
   ]
  },
  {
   "cell_type": "code",
   "execution_count": 52,
   "metadata": {},
   "outputs": [
    {
     "name": "stdout",
     "output_type": "stream",
     "text": [
      "Train on 88 samples\n",
      "Epoch 1/200\n",
      "88/88 [==============================] - 6s 65ms/sample - loss: 7.1889e-06 - accuracy: 1.0000\n",
      "Epoch 2/200\n",
      "88/88 [==============================] - 0s 626us/sample - loss: 1.2946e-05 - accuracy: 1.0000\n",
      "Epoch 3/200\n",
      "88/88 [==============================] - 0s 959us/sample - loss: 4.4055e-05 - accuracy: 1.0000\n",
      "Epoch 4/200\n",
      "88/88 [==============================] - 0s 902us/sample - loss: 1.4144e-05 - accuracy: 1.0000\n",
      "Epoch 5/200\n",
      "88/88 [==============================] - 0s 442us/sample - loss: 7.4412e-05 - accuracy: 1.0000\n",
      "Epoch 6/200\n",
      "88/88 [==============================] - 0s 943us/sample - loss: 6.3079e-06 - accuracy: 1.0000\n",
      "Epoch 7/200\n",
      "88/88 [==============================] - 0s 1ms/sample - loss: 3.4755e-05 - accuracy: 1.0000\n",
      "Epoch 8/200\n",
      "88/88 [==============================] - 0s 1ms/sample - loss: 5.2503e-06 - accuracy: 1.0000\n",
      "Epoch 9/200\n",
      "88/88 [==============================] - 0s 370us/sample - loss: 1.7345e-05 - accuracy: 1.0000\n",
      "Epoch 10/200\n",
      "88/88 [==============================] - 0s 669us/sample - loss: 5.6771e-05 - accuracy: 1.0000\n",
      "Epoch 11/200\n",
      "88/88 [==============================] - 0s 450us/sample - loss: 6.9698e-05 - accuracy: 1.0000\n",
      "Epoch 12/200\n",
      "88/88 [==============================] - 0s 389us/sample - loss: 3.6486e-05 - accuracy: 1.0000\n",
      "Epoch 13/200\n",
      "88/88 [==============================] - 0s 875us/sample - loss: 9.7518e-05 - accuracy: 1.0000\n",
      "Epoch 14/200\n",
      "88/88 [==============================] - 0s 476us/sample - loss: 5.8334e-05 - accuracy: 1.0000\n",
      "Epoch 15/200\n",
      "88/88 [==============================] - 0s 419us/sample - loss: 4.2021e-05 - accuracy: 1.0000\n",
      "Epoch 16/200\n",
      "88/88 [==============================] - 0s 419us/sample - loss: 2.2684e-05 - accuracy: 1.0000\n",
      "Epoch 17/200\n",
      "88/88 [==============================] - 0s 408us/sample - loss: 1.2855e-06 - accuracy: 1.0000\n",
      "Epoch 18/200\n",
      "88/88 [==============================] - 0s 408us/sample - loss: 6.8364e-06 - accuracy: 1.0000\n",
      "Epoch 19/200\n",
      "88/88 [==============================] - 0s 397us/sample - loss: 1.4824e-04 - accuracy: 1.0000\n",
      "Epoch 20/200\n",
      "88/88 [==============================] - 0s 442us/sample - loss: 5.5982e-05 - accuracy: 1.0000\n",
      "Epoch 21/200\n",
      "88/88 [==============================] - 0s 408us/sample - loss: 1.8348e-05 - accuracy: 1.0000\n",
      "Epoch 22/200\n",
      "88/88 [==============================] - 0s 442us/sample - loss: 2.1714e-06 - accuracy: 1.0000\n",
      "Epoch 23/200\n",
      "88/88 [==============================] - 0s 385us/sample - loss: 3.8530e-05 - accuracy: 1.0000\n",
      "Epoch 24/200\n",
      "88/88 [==============================] - 0s 578us/sample - loss: 9.1855e-06 - accuracy: 1.0000\n",
      "Epoch 25/200\n",
      "88/88 [==============================] - 0s 499us/sample - loss: 7.2375e-06 - accuracy: 1.0000\n",
      "Epoch 26/200\n",
      "88/88 [==============================] - 0s 487us/sample - loss: 1.1436e-05 - accuracy: 1.0000\n",
      "Epoch 27/200\n",
      "88/88 [==============================] - 0s 487us/sample - loss: 7.8279e-06 - accuracy: 1.0000\n",
      "Epoch 28/200\n",
      "88/88 [==============================] - 0s 691us/sample - loss: 7.2208e-04 - accuracy: 1.0000\n",
      "Epoch 29/200\n",
      "88/88 [==============================] - 0s 465us/sample - loss: 2.4781e-05 - accuracy: 1.0000\n",
      "Epoch 30/200\n",
      "88/88 [==============================] - 0s 510us/sample - loss: 5.2762e-05 - accuracy: 1.0000\n",
      "Epoch 31/200\n",
      "88/88 [==============================] - 0s 442us/sample - loss: 7.4850e-05 - accuracy: 1.0000\n",
      "Epoch 32/200\n",
      "88/88 [==============================] - ETA: 0s - loss: 3.3379e-07 - accuracy: 1.00 - 0s 544us/sample - loss: 1.3085e-05 - accuracy: 1.0000\n",
      "Epoch 33/200\n",
      "88/88 [==============================] - 0s 408us/sample - loss: 8.8834e-05 - accuracy: 1.0000\n",
      "Epoch 34/200\n",
      "88/88 [==============================] - 0s 544us/sample - loss: 4.0034e-04 - accuracy: 1.0000\n",
      "Epoch 35/200\n",
      "88/88 [==============================] - 0s 623us/sample - loss: 2.2384e-05 - accuracy: 1.0000\n",
      "Epoch 36/200\n",
      "88/88 [==============================] - 0s 442us/sample - loss: 4.3187e-04 - accuracy: 1.0000\n",
      "Epoch 37/200\n",
      "88/88 [==============================] - 0s 510us/sample - loss: 2.4699e-05 - accuracy: 1.0000\n",
      "Epoch 38/200\n",
      "88/88 [==============================] - 0s 476us/sample - loss: 3.3551e-05 - accuracy: 1.0000\n",
      "Epoch 39/200\n",
      "88/88 [==============================] - 0s 431us/sample - loss: 9.9405e-06 - accuracy: 1.0000\n",
      "Epoch 40/200\n",
      "88/88 [==============================] - 0s 589us/sample - loss: 1.1068e-04 - accuracy: 1.0000\n",
      "Epoch 41/200\n",
      "88/88 [==============================] - 0s 476us/sample - loss: 1.7797e-05 - accuracy: 1.0000\n",
      "Epoch 42/200\n",
      "88/88 [==============================] - 0s 442us/sample - loss: 5.3816e-05 - accuracy: 1.0000\n",
      "Epoch 43/200\n",
      "88/88 [==============================] - 0s 487us/sample - loss: 2.6306e-06 - accuracy: 1.0000\n",
      "Epoch 44/200\n",
      "88/88 [==============================] - 0s 442us/sample - loss: 5.9840e-05 - accuracy: 1.0000\n",
      "Epoch 45/200\n",
      "88/88 [==============================] - 0s 431us/sample - loss: 1.9788e-05 - accuracy: 1.0000\n",
      "Epoch 46/200\n",
      "88/88 [==============================] - 0s 431us/sample - loss: 1.8477e-06 - accuracy: 1.0000\n",
      "Epoch 47/200\n",
      "88/88 [==============================] - 0s 431us/sample - loss: 4.7723e-05 - accuracy: 1.0000\n",
      "Epoch 48/200\n",
      "88/88 [==============================] - 0s 465us/sample - loss: 7.8429e-05 - accuracy: 1.0000\n",
      "Epoch 49/200\n",
      "88/88 [==============================] - 0s 544us/sample - loss: 6.1967e-06 - accuracy: 1.0000\n",
      "Epoch 50/200\n",
      "88/88 [==============================] - 0s 544us/sample - loss: 6.4138e-06 - accuracy: 1.0000\n",
      "Epoch 51/200\n",
      "88/88 [==============================] - 0s 499us/sample - loss: 2.1348e-04 - accuracy: 1.0000\n",
      "Epoch 52/200\n",
      "88/88 [==============================] - 0s 805us/sample - loss: 1.1390e-05 - accuracy: 1.0000\n",
      "Epoch 53/200\n",
      "88/88 [==============================] - 0s 544us/sample - loss: 1.5095e-05 - accuracy: 1.0000\n",
      "Epoch 54/200\n",
      "88/88 [==============================] - 0s 521us/sample - loss: 9.3019e-05 - accuracy: 1.0000\n",
      "Epoch 55/200\n",
      "88/88 [==============================] - 0s 612us/sample - loss: 1.1877e-05 - accuracy: 1.0000\n",
      "Epoch 56/200\n",
      "88/88 [==============================] - 0s 635us/sample - loss: 1.5122e-05 - accuracy: 1.0000\n",
      "Epoch 57/200\n",
      "88/88 [==============================] - 0s 544us/sample - loss: 9.7576e-06 - accuracy: 1.0000\n",
      "Epoch 58/200\n",
      "88/88 [==============================] - 0s 725us/sample - loss: 2.5535e-05 - accuracy: 1.0000\n",
      "Epoch 59/200\n",
      "88/88 [==============================] - 0s 599us/sample - loss: 4.0001e-06 - accuracy: 1.0000\n",
      "Epoch 60/200\n",
      "88/88 [==============================] - ETA: 0s - loss: 2.1458e-07 - accuracy: 1.00 - 0s 533us/sample - loss: 1.2762e-04 - accuracy: 1.0000\n",
      "Epoch 61/200\n",
      "88/88 [==============================] - 0s 533us/sample - loss: 2.8411e-04 - accuracy: 1.0000\n",
      "Epoch 62/200\n",
      "88/88 [==============================] - 0s 431us/sample - loss: 1.2610e-05 - accuracy: 1.0000\n",
      "Epoch 63/200\n",
      "88/88 [==============================] - 0s 499us/sample - loss: 4.4440e-05 - accuracy: 1.0000\n",
      "Epoch 64/200\n",
      "88/88 [==============================] - 0s 601us/sample - loss: 6.5111e-05 - accuracy: 1.0000\n",
      "Epoch 65/200\n",
      "88/88 [==============================] - 0s 431us/sample - loss: 4.8589e-04 - accuracy: 1.0000\n",
      "Epoch 66/200\n",
      "88/88 [==============================] - 0s 1ms/sample - loss: 2.0865e-05 - accuracy: 1.0000\n",
      "Epoch 67/200\n",
      "88/88 [==============================] - 0s 476us/sample - loss: 1.6716e-06 - accuracy: 1.0000\n",
      "Epoch 68/200\n",
      "88/88 [==============================] - 0s 419us/sample - loss: 1.4775e-05 - accuracy: 1.0000\n",
      "Epoch 69/200\n",
      "88/88 [==============================] - 0s 499us/sample - loss: 8.5176e-05 - accuracy: 1.0000\n",
      "Epoch 70/200\n",
      "88/88 [==============================] - 0s 385us/sample - loss: 0.0011 - accuracy: 1.0000\n",
      "Epoch 71/200\n",
      "88/88 [==============================] - 0s 385us/sample - loss: 3.7039e-05 - accuracy: 1.0000\n",
      "Epoch 72/200\n",
      "88/88 [==============================] - 0s 431us/sample - loss: 6.5192e-06 - accuracy: 1.0000\n",
      "Epoch 73/200\n",
      "88/88 [==============================] - 0s 385us/sample - loss: 1.1203e-05 - accuracy: 1.0000\n",
      "Epoch 74/200\n",
      "88/88 [==============================] - 0s 465us/sample - loss: 2.1825e-04 - accuracy: 1.0000\n",
      "Epoch 75/200\n",
      "88/88 [==============================] - 0s 453us/sample - loss: 3.0040e-05 - accuracy: 1.0000\n",
      "Epoch 76/200\n"
     ]
    },
    {
     "name": "stdout",
     "output_type": "stream",
     "text": [
      "88/88 [==============================] - 0s 442us/sample - loss: 4.9767e-04 - accuracy: 1.0000\n",
      "Epoch 77/200\n",
      "88/88 [==============================] - 0s 453us/sample - loss: 0.0019 - accuracy: 1.0000\n",
      "Epoch 78/200\n",
      "88/88 [==============================] - 0s 623us/sample - loss: 7.9481e-04 - accuracy: 1.0000\n",
      "Epoch 79/200\n",
      "88/88 [==============================] - 0s 408us/sample - loss: 4.9188e-05 - accuracy: 1.0000\n",
      "Epoch 80/200\n",
      "88/88 [==============================] - 0s 918us/sample - loss: 1.6499e-06 - accuracy: 1.0000\n",
      "Epoch 81/200\n",
      "88/88 [==============================] - 0s 431us/sample - loss: 5.6431e-06 - accuracy: 1.0000\n",
      "Epoch 82/200\n",
      "88/88 [==============================] - 0s 476us/sample - loss: 1.4725e-05 - accuracy: 1.0000\n",
      "Epoch 83/200\n",
      "88/88 [==============================] - 0s 487us/sample - loss: 1.1126e-04 - accuracy: 1.0000\n",
      "Epoch 84/200\n",
      "88/88 [==============================] - 0s 476us/sample - loss: 9.0956e-05 - accuracy: 1.0000\n",
      "Epoch 85/200\n",
      "88/88 [==============================] - 0s 465us/sample - loss: 2.9142e-05 - accuracy: 1.0000\n",
      "Epoch 86/200\n",
      "88/88 [==============================] - 0s 442us/sample - loss: 2.4172e-05 - accuracy: 1.0000\n",
      "Epoch 87/200\n",
      "88/88 [==============================] - 0s 476us/sample - loss: 3.9827e-07 - accuracy: 1.0000\n",
      "Epoch 88/200\n",
      "88/88 [==============================] - 0s 465us/sample - loss: 6.1589e-05 - accuracy: 1.0000\n",
      "Epoch 89/200\n",
      "88/88 [==============================] - 0s 782us/sample - loss: 1.4752e-06 - accuracy: 1.0000\n",
      "Epoch 90/200\n",
      "88/88 [==============================] - 0s 465us/sample - loss: 6.1430e-06 - accuracy: 1.0000\n",
      "Epoch 91/200\n",
      "88/88 [==============================] - 0s 499us/sample - loss: 7.0892e-06 - accuracy: 1.0000\n",
      "Epoch 92/200\n",
      "88/88 [==============================] - 0s 431us/sample - loss: 1.3483e-05 - accuracy: 1.0000\n",
      "Epoch 93/200\n",
      "88/88 [==============================] - 0s 408us/sample - loss: 1.1510e-05 - accuracy: 1.0000\n",
      "Epoch 94/200\n",
      "88/88 [==============================] - 0s 351us/sample - loss: 3.4862e-05 - accuracy: 1.0000\n",
      "Epoch 95/200\n",
      "88/88 [==============================] - 0s 518us/sample - loss: 2.8988e-05 - accuracy: 1.0000\n",
      "Epoch 96/200\n",
      "88/88 [==============================] - 0s 555us/sample - loss: 6.2469e-05 - accuracy: 1.0000\n",
      "Epoch 97/200\n",
      "88/88 [==============================] - 0s 476us/sample - loss: 4.1078e-05 - accuracy: 1.0000\n",
      "Epoch 98/200\n",
      "88/88 [==============================] - 0s 703us/sample - loss: 7.4199e-06 - accuracy: 1.0000\n",
      "Epoch 99/200\n",
      "88/88 [==============================] - 0s 408us/sample - loss: 2.1823e-05 - accuracy: 1.0000\n",
      "Epoch 100/200\n",
      "88/88 [==============================] - 0s 408us/sample - loss: 3.3396e-05 - accuracy: 1.0000\n",
      "Epoch 101/200\n",
      "88/88 [==============================] - 0s 385us/sample - loss: 0.0012 - accuracy: 1.0000\n",
      "Epoch 102/200\n",
      "88/88 [==============================] - 0s 465us/sample - loss: 2.8297e-06 - accuracy: 1.0000\n",
      "Epoch 103/200\n",
      "88/88 [==============================] - 0s 431us/sample - loss: 1.2451e-04 - accuracy: 1.0000\n",
      "Epoch 104/200\n",
      "88/88 [==============================] - 0s 453us/sample - loss: 9.0074e-06 - accuracy: 1.0000\n",
      "Epoch 105/200\n",
      "88/88 [==============================] - 0s 499us/sample - loss: 2.4207e-06 - accuracy: 1.0000\n",
      "Epoch 106/200\n",
      "88/88 [==============================] - 0s 555us/sample - loss: 6.5816e-06 - accuracy: 1.0000\n",
      "Epoch 107/200\n",
      "88/88 [==============================] - 0s 544us/sample - loss: 4.4716e-05 - accuracy: 1.0000\n",
      "Epoch 108/200\n",
      "88/88 [==============================] - 0s 465us/sample - loss: 2.2952e-05 - accuracy: 1.0000\n",
      "Epoch 109/200\n",
      "88/88 [==============================] - 0s 521us/sample - loss: 2.1601e-05 - accuracy: 1.0000\n",
      "Epoch 110/200\n",
      "88/88 [==============================] - 0s 419us/sample - loss: 4.1574e-05 - accuracy: 1.0000\n",
      "Epoch 111/200\n",
      "88/88 [==============================] - 0s 397us/sample - loss: 4.4198e-04 - accuracy: 1.0000\n",
      "Epoch 112/200\n",
      "88/88 [==============================] - 0s 431us/sample - loss: 3.2848e-04 - accuracy: 1.0000\n",
      "Epoch 113/200\n",
      "88/88 [==============================] - 0s 397us/sample - loss: 4.1247e-06 - accuracy: 1.0000\n",
      "Epoch 114/200\n",
      "88/88 [==============================] - 0s 397us/sample - loss: 1.1772e-06 - accuracy: 1.0000\n",
      "Epoch 115/200\n",
      "88/88 [==============================] - 0s 453us/sample - loss: 5.9464e-06 - accuracy: 1.0000\n",
      "Epoch 116/200\n",
      "88/88 [==============================] - 0s 487us/sample - loss: 3.3851e-06 - accuracy: 1.0000\n",
      "Epoch 117/200\n",
      "88/88 [==============================] - 0s 521us/sample - loss: 3.0437e-06 - accuracy: 1.0000\n",
      "Epoch 118/200\n",
      "88/88 [==============================] - 0s 544us/sample - loss: 2.7214e-06 - accuracy: 1.0000\n",
      "Epoch 119/200\n",
      "88/88 [==============================] - 0s 578us/sample - loss: 9.9272e-06 - accuracy: 1.0000\n",
      "Epoch 120/200\n",
      "88/88 [==============================] - 0s 544us/sample - loss: 6.0900e-05 - accuracy: 1.0000\n",
      "Epoch 121/200\n",
      "88/88 [==============================] - 0s 510us/sample - loss: 4.9456e-06 - accuracy: 1.0000\n",
      "Epoch 122/200\n",
      "88/88 [==============================] - 0s 578us/sample - loss: 1.7834e-05 - accuracy: 1.0000\n",
      "Epoch 123/200\n",
      "88/88 [==============================] - 0s 521us/sample - loss: 3.2870e-05 - accuracy: 1.0000\n",
      "Epoch 124/200\n",
      "88/88 [==============================] - 0s 544us/sample - loss: 6.9307e-06 - accuracy: 1.0000\n",
      "Epoch 125/200\n",
      "88/88 [==============================] - 0s 612us/sample - loss: 3.2651e-05 - accuracy: 1.0000\n",
      "Epoch 126/200\n",
      "88/88 [==============================] - 0s 589us/sample - loss: 2.0780e-06 - accuracy: 1.0000\n",
      "Epoch 127/200\n",
      "88/88 [==============================] - 0s 612us/sample - loss: 4.0051e-05 - accuracy: 1.0000\n",
      "Epoch 128/200\n",
      "88/88 [==============================] - 0s 714us/sample - loss: 5.4125e-06 - accuracy: 1.0000\n",
      "Epoch 129/200\n",
      "88/88 [==============================] - 0s 510us/sample - loss: 1.7651e-06 - accuracy: 1.0000\n",
      "Epoch 130/200\n",
      "88/88 [==============================] - 0s 476us/sample - loss: 5.4255e-04 - accuracy: 1.0000\n",
      "Epoch 131/200\n",
      "88/88 [==============================] - 0s 487us/sample - loss: 8.2621e-05 - accuracy: 1.0000\n",
      "Epoch 132/200\n",
      "88/88 [==============================] - 0s 499us/sample - loss: 4.8520e-06 - accuracy: 1.0000\n",
      "Epoch 133/200\n",
      "88/88 [==============================] - 0s 453us/sample - loss: 6.1578e-06 - accuracy: 1.0000\n",
      "Epoch 134/200\n",
      "88/88 [==============================] - 0s 476us/sample - loss: 1.0331e-05 - accuracy: 1.0000\n",
      "Epoch 135/200\n",
      "88/88 [==============================] - 0s 510us/sample - loss: 3.9214e-05 - accuracy: 1.0000\n",
      "Epoch 136/200\n",
      "88/88 [==============================] - 0s 499us/sample - loss: 6.7699e-05 - accuracy: 1.0000\n",
      "Epoch 137/200\n",
      "88/88 [==============================] - 0s 499us/sample - loss: 3.6019e-06 - accuracy: 1.0000\n",
      "Epoch 138/200\n",
      "88/88 [==============================] - 0s 521us/sample - loss: 6.0105e-05 - accuracy: 1.0000\n",
      "Epoch 139/200\n",
      "88/88 [==============================] - 0s 487us/sample - loss: 4.1082e-05 - accuracy: 1.0000\n",
      "Epoch 140/200\n",
      "88/88 [==============================] - 0s 533us/sample - loss: 1.9186e-04 - accuracy: 1.0000\n",
      "Epoch 141/200\n",
      "88/88 [==============================] - 0s 873us/sample - loss: 1.7367e-05 - accuracy: 1.0000\n",
      "Epoch 142/200\n",
      "88/88 [==============================] - 0s 952us/sample - loss: 2.9408e-06 - accuracy: 1.0000\n",
      "Epoch 143/200\n",
      "88/88 [==============================] - 0s 782us/sample - loss: 5.6327e-05 - accuracy: 1.0000\n",
      "Epoch 144/200\n",
      "88/88 [==============================] - 0s 771us/sample - loss: 1.4822e-05 - accuracy: 1.0000\n",
      "Epoch 145/200\n",
      "88/88 [==============================] - 0s 703us/sample - loss: 1.3000e-05 - accuracy: 1.0000\n",
      "Epoch 146/200\n",
      "88/88 [==============================] - 0s 623us/sample - loss: 7.9166e-06 - accuracy: 1.0000\n",
      "Epoch 147/200\n",
      "88/88 [==============================] - 0s 725us/sample - loss: 8.4728e-05 - accuracy: 1.0000\n",
      "Epoch 148/200\n",
      "88/88 [==============================] - 0s 555us/sample - loss: 8.9844e-06 - accuracy: 1.0000\n",
      "Epoch 149/200\n",
      "88/88 [==============================] - ETA: 0s - loss: 2.6892e-05 - accuracy: 1.00 - 0s 827us/sample - loss: 3.6504e-05 - accuracy: 1.0000\n",
      "Epoch 150/200\n",
      "88/88 [==============================] - 0s 623us/sample - loss: 4.4266e-06 - accuracy: 1.0000\n",
      "Epoch 151/200\n"
     ]
    },
    {
     "name": "stdout",
     "output_type": "stream",
     "text": [
      "88/88 [==============================] - 0s 499us/sample - loss: 3.2863e-06 - accuracy: 1.0000\n",
      "Epoch 152/200\n",
      "88/88 [==============================] - 0s 533us/sample - loss: 6.1843e-05 - accuracy: 1.0000\n",
      "Epoch 153/200\n",
      "88/88 [==============================] - 0s 533us/sample - loss: 5.9032e-06 - accuracy: 1.0000\n",
      "Epoch 154/200\n",
      "88/88 [==============================] - 0s 431us/sample - loss: 2.5994e-05 - accuracy: 1.0000\n",
      "Epoch 155/200\n",
      "88/88 [==============================] - 0s 431us/sample - loss: 1.2408e-06 - accuracy: 1.0000\n",
      "Epoch 156/200\n",
      "88/88 [==============================] - 0s 476us/sample - loss: 8.0038e-05 - accuracy: 1.0000\n",
      "Epoch 157/200\n",
      "88/88 [==============================] - 0s 431us/sample - loss: 1.9561e-06 - accuracy: 1.0000\n",
      "Epoch 158/200\n",
      "88/88 [==============================] - 0s 431us/sample - loss: 5.5006e-06 - accuracy: 1.0000\n",
      "Epoch 159/200\n",
      "88/88 [==============================] - 0s 408us/sample - loss: 2.5417e-04 - accuracy: 1.0000\n",
      "Epoch 160/200\n",
      "88/88 [==============================] - 0s 431us/sample - loss: 1.3665e-05 - accuracy: 1.0000\n",
      "Epoch 161/200\n",
      "88/88 [==============================] - 0s 476us/sample - loss: 7.1262e-06 - accuracy: 1.0000\n",
      "Epoch 162/200\n",
      "88/88 [==============================] - 0s 623us/sample - loss: 4.0932e-04 - accuracy: 1.0000\n",
      "Epoch 163/200\n",
      "88/88 [==============================] - ETA: 0s - loss: 1.8366e-04 - accuracy: 1.00 - 0s 453us/sample - loss: 5.0902e-04 - accuracy: 1.0000\n",
      "Epoch 164/200\n",
      "88/88 [==============================] - 0s 419us/sample - loss: 5.9083e-06 - accuracy: 1.0000\n",
      "Epoch 165/200\n",
      "88/88 [==============================] - 0s 408us/sample - loss: 1.0553e-04 - accuracy: 1.0000\n",
      "Epoch 166/200\n",
      "88/88 [==============================] - 0s 465us/sample - loss: 2.6760e-05 - accuracy: 1.0000\n",
      "Epoch 167/200\n",
      "88/88 [==============================] - 0s 419us/sample - loss: 1.2404e-04 - accuracy: 1.0000\n",
      "Epoch 168/200\n",
      "88/88 [==============================] - 0s 499us/sample - loss: 1.0539e-05 - accuracy: 1.0000\n",
      "Epoch 169/200\n",
      "88/88 [==============================] - 0s 533us/sample - loss: 2.9680e-05 - accuracy: 1.0000\n",
      "Epoch 170/200\n",
      "88/88 [==============================] - 0s 884us/sample - loss: 8.1298e-06 - accuracy: 1.0000\n",
      "Epoch 171/200\n",
      "88/88 [==============================] - 0s 385us/sample - loss: 2.9461e-05 - accuracy: 1.0000\n",
      "Epoch 172/200\n",
      "88/88 [==============================] - 0s 397us/sample - loss: 3.9244e-04 - accuracy: 1.0000\n",
      "Epoch 173/200\n",
      "88/88 [==============================] - 0s 431us/sample - loss: 4.2431e-05 - accuracy: 1.0000\n",
      "Epoch 174/200\n",
      "88/88 [==============================] - 0s 397us/sample - loss: 1.5955e-05 - accuracy: 1.0000\n",
      "Epoch 175/200\n",
      "88/88 [==============================] - 0s 533us/sample - loss: 2.7268e-06 - accuracy: 1.0000\n",
      "Epoch 176/200\n",
      "88/88 [==============================] - 0s 408us/sample - loss: 4.7329e-06 - accuracy: 1.0000\n",
      "Epoch 177/200\n",
      "88/88 [==============================] - 0s 374us/sample - loss: 3.2854e-05 - accuracy: 1.0000\n",
      "Epoch 178/200\n",
      "88/88 [==============================] - 0s 374us/sample - loss: 3.5341e-06 - accuracy: 1.0000\n",
      "Epoch 179/200\n",
      "88/88 [==============================] - 0s 476us/sample - loss: 5.4089e-05 - accuracy: 1.0000\n",
      "Epoch 180/200\n",
      "88/88 [==============================] - 0s 408us/sample - loss: 3.1482e-05 - accuracy: 1.0000\n",
      "Epoch 181/200\n",
      "88/88 [==============================] - 0s 419us/sample - loss: 1.5988e-05 - accuracy: 1.0000\n",
      "Epoch 182/200\n",
      "88/88 [==============================] - 0s 419us/sample - loss: 9.2305e-06 - accuracy: 1.0000\n",
      "Epoch 183/200\n",
      "88/88 [==============================] - 0s 431us/sample - loss: 4.4601e-06 - accuracy: 1.0000\n",
      "Epoch 184/200\n",
      "88/88 [==============================] - 0s 408us/sample - loss: 3.6208e-06 - accuracy: 1.0000\n",
      "Epoch 185/200\n",
      "88/88 [==============================] - 0s 476us/sample - loss: 6.0688e-07 - accuracy: 1.0000\n",
      "Epoch 186/200\n",
      "88/88 [==============================] - 0s 465us/sample - loss: 1.9246e-05 - accuracy: 1.0000\n",
      "Epoch 187/200\n",
      "88/88 [==============================] - 0s 442us/sample - loss: 3.3228e-06 - accuracy: 1.0000\n",
      "Epoch 188/200\n",
      "88/88 [==============================] - 0s 465us/sample - loss: 1.0268e-04 - accuracy: 1.0000\n",
      "Epoch 189/200\n",
      "88/88 [==============================] - 0s 465us/sample - loss: 3.6781e-05 - accuracy: 1.0000\n",
      "Epoch 190/200\n",
      "88/88 [==============================] - 0s 601us/sample - loss: 5.6292e-05 - accuracy: 1.0000\n",
      "Epoch 191/200\n",
      "88/88 [==============================] - 0s 691us/sample - loss: 1.6567e-06 - accuracy: 1.0000\n",
      "Epoch 192/200\n",
      "88/88 [==============================] - 0s 601us/sample - loss: 1.9487e-05 - accuracy: 1.0000\n",
      "Epoch 193/200\n",
      "88/88 [==============================] - 0s 487us/sample - loss: 8.0603e-05 - accuracy: 1.0000\n",
      "Epoch 194/200\n",
      "88/88 [==============================] - 0s 544us/sample - loss: 1.0108e-05 - accuracy: 1.0000\n",
      "Epoch 195/200\n",
      "88/88 [==============================] - 0s 533us/sample - loss: 3.1407e-05 - accuracy: 1.0000\n",
      "Epoch 196/200\n",
      "88/88 [==============================] - 0s 431us/sample - loss: 9.8744e-06 - accuracy: 1.0000\n",
      "Epoch 197/200\n",
      "88/88 [==============================] - 0s 533us/sample - loss: 1.9709e-06 - accuracy: 1.0000\n",
      "Epoch 198/200\n",
      "88/88 [==============================] - 0s 521us/sample - loss: 8.0011e-06 - accuracy: 1.0000\n",
      "Epoch 199/200\n",
      "88/88 [==============================] - 0s 487us/sample - loss: 3.8643e-06 - accuracy: 1.0000\n",
      "Epoch 200/200\n",
      "88/88 [==============================] - 0s 408us/sample - loss: 1.9249e-06 - accuracy: 1.0000\n",
      "model created\n"
     ]
    }
   ],
   "source": [
    "#fitting and saving the model \n",
    "hist = model.fit(np.array(train_x), np.array(train_y), epochs=200, batch_size=5, verbose=1)\n",
    "model.save('chatbot_model.h5', hist)\n",
    "print(\"model created\")"
   ]
  },
  {
   "cell_type": "code",
   "execution_count": 47,
   "metadata": {},
   "outputs": [],
   "source": [
    "model_loss = pd.DataFrame(model.history.history)"
   ]
  },
  {
   "cell_type": "code",
   "execution_count": 50,
   "metadata": {},
   "outputs": [
    {
     "data": {
      "text/html": [
       "<div>\n",
       "<style scoped>\n",
       "    .dataframe tbody tr th:only-of-type {\n",
       "        vertical-align: middle;\n",
       "    }\n",
       "\n",
       "    .dataframe tbody tr th {\n",
       "        vertical-align: top;\n",
       "    }\n",
       "\n",
       "    .dataframe thead th {\n",
       "        text-align: right;\n",
       "    }\n",
       "</style>\n",
       "<table border=\"1\" class=\"dataframe\">\n",
       "  <thead>\n",
       "    <tr style=\"text-align: right;\">\n",
       "      <th></th>\n",
       "      <th>loss</th>\n",
       "      <th>accuracy</th>\n",
       "    </tr>\n",
       "  </thead>\n",
       "  <tbody>\n",
       "    <tr>\n",
       "      <th>0</th>\n",
       "      <td>0.869489</td>\n",
       "      <td>0.795455</td>\n",
       "    </tr>\n",
       "    <tr>\n",
       "      <th>1</th>\n",
       "      <td>0.011066</td>\n",
       "      <td>1.000000</td>\n",
       "    </tr>\n",
       "    <tr>\n",
       "      <th>2</th>\n",
       "      <td>0.000342</td>\n",
       "      <td>1.000000</td>\n",
       "    </tr>\n",
       "    <tr>\n",
       "      <th>3</th>\n",
       "      <td>0.000405</td>\n",
       "      <td>1.000000</td>\n",
       "    </tr>\n",
       "    <tr>\n",
       "      <th>4</th>\n",
       "      <td>0.001534</td>\n",
       "      <td>1.000000</td>\n",
       "    </tr>\n",
       "  </tbody>\n",
       "</table>\n",
       "</div>"
      ],
      "text/plain": [
       "       loss  accuracy\n",
       "0  0.869489  0.795455\n",
       "1  0.011066  1.000000\n",
       "2  0.000342  1.000000\n",
       "3  0.000405  1.000000\n",
       "4  0.001534  1.000000"
      ]
     },
     "execution_count": 50,
     "metadata": {},
     "output_type": "execute_result"
    }
   ],
   "source": [
    "model_loss.head()"
   ]
  },
  {
   "cell_type": "code",
   "execution_count": 48,
   "metadata": {},
   "outputs": [
    {
     "data": {
      "text/plain": [
       "<matplotlib.axes._subplots.AxesSubplot at 0x2d48eaf81c8>"
      ]
     },
     "execution_count": 48,
     "metadata": {},
     "output_type": "execute_result"
    },
    {
     "data": {
      "image/png": "[encoded data removed]",
      "text/plain": [
       "<Figure size 432x288 with 1 Axes>"
      ]
     },
     "metadata": {
      "needs_background": "light"
     },
     "output_type": "display_data"
    }
   ],
   "source": [
    "model_loss.plot()"
   ]
  },
  {
   "cell_type": "markdown",
   "metadata": {},
   "source": [
    "**Accuracy rate is very good.**"
   ]
  },
  {
   "cell_type": "code",
   "execution_count": null,
   "metadata": {},
   "outputs": [],
   "source": []
  }
 ],
 "metadata": {
  "kernelspec": {
   "display_name": "Python 3",
   "language": "python",
   "name": "python3"
  },
  "language_info": {
   "codemirror_mode": {
    "name": "ipython",
    "version": 3
   },
   "file_extension": ".py",
   "mimetype": "text/x-python",
   "name": "python",
   "nbconvert_exporter": "python",
   "pygments_lexer": "ipython3",
   "version": "3.7.6"
  }
 },
 "nbformat": 4,
 "nbformat_minor": 4
}
